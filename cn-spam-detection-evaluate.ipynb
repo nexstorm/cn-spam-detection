{
 "nbformat": 4,
 "nbformat_minor": 0,
 "metadata": {
  "colab": {
   "provenance": [],
   "authorship_tag": "ABX9TyPuDZZ4GKAnR5wv3g6MijUd"
  },
  "kernelspec": {
   "name": "python3",
   "display_name": "Python 3"
  },
  "language_info": {
   "name": "python"
  }
 },
 "cells": [
  {
   "cell_type": "markdown",
   "source": [
    "# This is meant to evaluate a sentence and output the probability that it is spam."
   ],
   "metadata": {
    "id": "V-QJd8m4GaCM"
   }
  },
  {
   "cell_type": "markdown",
   "source": [
    "## Set up model"
   ],
   "metadata": {
    "id": "ZsCkbVy8G-5O"
   }
  },
  {
   "cell_type": "code",
   "source": [
    "from google.colab import drive\n",
    "drive.mount('/content/drive')"
   ],
   "metadata": {
    "colab": {
     "base_uri": "https://localhost:8080/"
    },
    "id": "lNfQiw0IHRoN",
    "executionInfo": {
     "status": "ok",
     "timestamp": 1702469932044,
     "user_tz": -480,
     "elapsed": 26514,
     "user": {
      "displayName": "Alan Zhou",
      "userId": "15299751900136497413"
     }
    },
    "outputId": "0bce7097-8f5e-4e31-f67c-74a2bc898856"
   },
   "execution_count": null,
   "outputs": []
  },
  {
   "cell_type": "code",
   "execution_count": null,
   "metadata": {
    "id": "UpXO-233GJyu"
   },
   "outputs": [],
   "source": [
    "from transformers import AutoModelForSequenceClassification, AutoTokenizer, BertTokenizerFast\n",
    "import torch\n",
    "model = AutoModelForSequenceClassification.from_pretrained('./drive/MyDrive/cn-spam-detection/model')\n",
    "tokenizer = BertTokenizerFast.from_pretrained('bert-base-chinese')\n"
   ]
  },
  {
   "cell_type": "markdown",
   "source": [
    "## Main loop"
   ],
   "metadata": {
    "id": "2pYZ7AyFHBDA"
   }
  },
  {
   "cell_type": "code",
   "source": [
    "while(True):\n",
    "  input_text = input(\"\")\n",
    "  inputs = tokenizer(input_text, return_tensors=\"pt\")\n",
    "  outputs = model(**inputs)\n",
    "  predictions = outputs.logits\n",
    "  probabilities = predictions.sigmoid()\n",
    "  probability_of_positive_class = probabilities[:, 1].item()\n",
    "  print(probability_of_positive_class)"
   ],
   "metadata": {
    "colab": {
     "base_uri": "https://localhost:8080/",
     "height": 811
    },
    "id": "r8iTYNsqHEM0",
    "outputId": "bd4c8b24-aa96-4ab5-e1aa-4ddd98608416"
   },
   "execution_count": null,
   "outputs": []
  }
 ]
}
